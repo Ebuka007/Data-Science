{
  "nbformat": 4,
  "nbformat_minor": 0,
  "metadata": {
    "colab": {
      "name": "PY DAY 2.ipynb",
      "provenance": [],
      "authorship_tag": "ABX9TyNfQjRM0K6u0RJbYtDvob/C",
      "include_colab_link": true
    },
    "kernelspec": {
      "name": "python3",
      "display_name": "Python 3"
    },
    "language_info": {
      "name": "python"
    }
  },
  "cells": [
    {
      "cell_type": "markdown",
      "metadata": {
        "id": "view-in-github",
        "colab_type": "text"
      },
      "source": [
        "<a href=\"https://colab.research.google.com/github/Ebuka007/Data-Science/blob/main/PY_DAY_2.ipynb\" target=\"_parent\"><img src=\"https://colab.research.google.com/assets/colab-badge.svg\" alt=\"Open In Colab\"/></a>"
      ]
    },
    {
      "cell_type": "code",
      "metadata": {
        "colab": {
          "base_uri": "https://localhost:8080/"
        },
        "id": "vyzeYyECpNup",
        "outputId": "9459cd52-71f9-4d83-8ae1-de107c232b94"
      },
      "source": [
        "print(\"\"\"I am from Essex.\n",
        "I love Python.\"\"\")"
      ],
      "execution_count": 1,
      "outputs": [
        {
          "output_type": "stream",
          "name": "stdout",
          "text": [
            "I am from Essex.\n",
            "I love Python.\n"
          ]
        }
      ]
    },
    {
      "cell_type": "code",
      "metadata": {
        "colab": {
          "base_uri": "https://localhost:8080/"
        },
        "id": "wsRaF0CApdNb",
        "outputId": "b7d71537-4c75-40d6-9b13-e4da38d5c9ab"
      },
      "source": [
        "string1 = \"World\"\n",
        "print(\"Hello\", string1)\n"
      ],
      "execution_count": 2,
      "outputs": [
        {
          "output_type": "stream",
          "name": "stdout",
          "text": [
            "Hello World\n"
          ]
        }
      ]
    },
    {
      "cell_type": "code",
      "metadata": {
        "colab": {
          "base_uri": "https://localhost:8080/"
        },
        "id": "EBpga0bHpimA",
        "outputId": "928d6f5e-252b-41d7-ec6d-10de2153b8b3"
      },
      "source": [
        "string2 = '!'\n",
        "print(\"Hello\", string1, string2)"
      ],
      "execution_count": 3,
      "outputs": [
        {
          "output_type": "stream",
          "name": "stdout",
          "text": [
            "Hello World !\n"
          ]
        }
      ]
    },
    {
      "cell_type": "code",
      "metadata": {
        "colab": {
          "base_uri": "https://localhost:8080/"
        },
        "id": "YpuzMMpxpnj5",
        "outputId": "dc037814-b633-4584-f997-29de0fdf3cf6"
      },
      "source": [
        "print(\"Hello\" + string1 + string2)\n"
      ],
      "execution_count": 4,
      "outputs": [
        {
          "output_type": "stream",
          "name": "stdout",
          "text": [
            "HelloWorld!\n"
          ]
        }
      ]
    },
    {
      "cell_type": "code",
      "metadata": {
        "colab": {
          "base_uri": "https://localhost:8080/"
        },
        "id": "QVzfhCD8psDH",
        "outputId": "ada273c7-414a-411e-de98-cb5402fa6a3d"
      },
      "source": [
        "print(\"Hello %s\" % string1)"
      ],
      "execution_count": 5,
      "outputs": [
        {
          "output_type": "stream",
          "name": "stdout",
          "text": [
            "Hello World\n"
          ]
        }
      ]
    },
    {
      "cell_type": "code",
      "metadata": {
        "colab": {
          "base_uri": "https://localhost:8080/"
        },
        "id": "qQBJO1FqpsKZ",
        "outputId": "8096f4a3-c3bd-42f6-fc77-4f30ad6fb9fb"
      },
      "source": [
        "print(\"Actual Number = %d\" %18)\n",
        "print(\"Float of the number = %f\" %18)"
      ],
      "execution_count": 6,
      "outputs": [
        {
          "output_type": "stream",
          "name": "stdout",
          "text": [
            "Actual Number = 18\n",
            "Float of the number = 18.000000\n"
          ]
        }
      ]
    },
    {
      "cell_type": "code",
      "metadata": {
        "colab": {
          "base_uri": "https://localhost:8080/"
        },
        "id": "GVChymYbqAUU",
        "outputId": "ecf4fd28-3723-439a-93ca-aeff5ffc8c55"
      },
      "source": [
        "print(\"Hello %s %s\" %(string1,string2))"
      ],
      "execution_count": 7,
      "outputs": [
        {
          "output_type": "stream",
          "name": "stdout",
          "text": [
            "Hello World !\n"
          ]
        }
      ]
    },
    {
      "cell_type": "code",
      "metadata": {
        "id": "Pa9L985fsGaV"
      },
      "source": [
        "h=1000"
      ],
      "execution_count": 10,
      "outputs": []
    },
    {
      "cell_type": "code",
      "metadata": {
        "colab": {
          "base_uri": "https://localhost:8080/"
        },
        "id": "joCbx5Fur3Ao",
        "outputId": "60bccd23-87f3-4da7-aefb-3e1b7a8a2044"
      },
      "source": [
        "%whos"
      ],
      "execution_count": 11,
      "outputs": [
        {
          "output_type": "stream",
          "name": "stdout",
          "text": [
            "Variable   Type    Data/Info\n",
            "----------------------------\n",
            "H          int     1000\n",
            "string1    str     World\n",
            "string2    str     !\n"
          ]
        }
      ]
    },
    {
      "cell_type": "code",
      "metadata": {
        "colab": {
          "base_uri": "https://localhost:8080/"
        },
        "id": "oZmkI2mzvV6r",
        "outputId": "e2cee620-6051-48c4-a81e-1f4144232fcc"
      },
      "source": [
        "x = \"Hello Essex\" \n",
        "print(x)\n",
        "print(type(x))\n",
        "\n",
        "# int type\n",
        "x = 100\t\n",
        "print(x)\n",
        "print(type(x))\n",
        "\n",
        "# float type\n",
        "x = 100.5\t\n",
        "print(x)\n",
        "print(type(x))\n",
        "\n",
        "# complex type\n",
        "x = 1j\n",
        "print(x)\n",
        "print(type(x))\n",
        "\n",
        "# list type\n",
        "x = [\"I\", \"Love\", \"Essex\"]\t\n",
        "print(x)\n",
        "print(type(x))\n",
        "\n",
        "# tuple \n",
        "x = (\"I\", \"Love\", \"Data Science\")\t\n",
        "print(x)\n",
        "print(type(x))\n",
        "\n",
        "# dictonary type\n",
        "x = {\"name\" : \"Haider\", \"age\" : 36}\t\t\n",
        "print(x)\n",
        "print(type(x))\n",
        "\n",
        "# set type\n",
        "x = {\"BWM\", \"Audi\", \"Honda\"}\n",
        "print(x)\t\n",
        "print(type(x))\n",
        "\n",
        "# frozen set type\n",
        "x = frozenset({\"England\", \"Wale\", \"Scotland\", \"Northern Ireland\"})\n",
        "print(x)\n",
        "print(type(x))\n",
        "\n",
        "# bool type\n",
        "x = True\n",
        "print(x)\n",
        "print(type(x))\n",
        "\n",
        "# bytes type\n",
        "x = b\"Hello\"\n",
        "print(x)\n",
        "print(type(x))\n",
        "\n",
        "# bytearray\n",
        "x = bytearray(3)\n",
        "print(x)\n",
        "print(type(x))\n",
        "\n",
        "# memoryview \n",
        "x = memoryview(bytes(5))\n",
        "print(x)\n",
        "print(type(x))\n"
      ],
      "execution_count": 22,
      "outputs": [
        {
          "output_type": "stream",
          "name": "stdout",
          "text": [
            "Hello Essex\n",
            "<class 'str'>\n",
            "100\n",
            "<class 'int'>\n",
            "100.5\n",
            "<class 'float'>\n",
            "1j\n",
            "<class 'complex'>\n",
            "['I', 'Love', 'Essex']\n",
            "<class 'list'>\n",
            "('I', 'Love', 'Data Science')\n",
            "<class 'tuple'>\n",
            "{'name': 'Haider', 'age': 36}\n",
            "<class 'dict'>\n",
            "{'Honda', 'Audi', 'BWM'}\n",
            "<class 'set'>\n",
            "frozenset({'England', 'Wale', 'Northern Ireland', 'Scotland'})\n",
            "<class 'frozenset'>\n",
            "True\n",
            "<class 'bool'>\n",
            "b'Hello'\n",
            "<class 'bytes'>\n",
            "bytearray(b'\\x00\\x00\\x00')\n",
            "<class 'bytearray'>\n",
            "<memory at 0x7f7e5e7b8ae0>\n",
            "<class 'memoryview'>\n"
          ]
        }
      ]
    },
    {
      "cell_type": "code",
      "metadata": {
        "colab": {
          "base_uri": "https://localhost:8080/"
        },
        "id": "B7ZPFVy5yjpT",
        "outputId": "2e141254-04ba-40f4-99d1-e140c152f03c"
      },
      "source": [
        "# bytearray\n",
        "x = bytearray(3)\n",
        "print(x)\n",
        "print(type(x))"
      ],
      "execution_count": 24,
      "outputs": [
        {
          "output_type": "stream",
          "name": "stdout",
          "text": [
            "bytearray(b'\\x00\\x00\\x00')\n",
            "<class 'bytearray'>\n"
          ]
        }
      ]
    },
    {
      "cell_type": "code",
      "metadata": {
        "colab": {
          "base_uri": "https://localhost:8080/"
        },
        "id": "wm7enTV8x5xd",
        "outputId": "4626bd4f-c661-4bee-cfc3-e00ba37876b4"
      },
      "source": [
        "# bytes type\n",
        "x = b\"Hello\"\n",
        "print(x)\n",
        "print(type(x))"
      ],
      "execution_count": 23,
      "outputs": [
        {
          "output_type": "stream",
          "name": "stdout",
          "text": [
            "b'Hello'\n",
            "<class 'bytes'>\n"
          ]
        }
      ]
    }
  ]
}