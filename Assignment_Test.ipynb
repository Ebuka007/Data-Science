{
  "nbformat": 4,
  "nbformat_minor": 0,
  "metadata": {
    "colab": {
      "name": "Assignment Test.ipynb",
      "provenance": [],
      "mount_file_id": "1Qx81CFg86mhadPSoCrjjIMiL0eh6RV1M",
      "authorship_tag": "ABX9TyPgF4ESb6A9CtPsOHPAueNn",
      "include_colab_link": true
    },
    "kernelspec": {
      "name": "python3",
      "display_name": "Python 3"
    },
    "language_info": {
      "name": "python"
    }
  },
  "cells": [
    {
      "cell_type": "markdown",
      "metadata": {
        "id": "view-in-github",
        "colab_type": "text"
      },
      "source": [
        "<a href=\"https://colab.research.google.com/github/Ebuka007/Data-Science/blob/main/Assignment_Test.ipynb\" target=\"_parent\"><img src=\"https://colab.research.google.com/assets/colab-badge.svg\" alt=\"Open In Colab\"/></a>"
      ]
    },
    {
      "cell_type": "code",
      "metadata": {
        "colab": {
          "base_uri": "https://localhost:8080/"
        },
        "id": "YTcIOT3a7swW",
        "outputId": "06afb232-f478-42e5-c746-75a6f899391a"
      },
      "source": [
        "!git clone https://github.com/Ebuka007/My-Data2.git"
      ],
      "execution_count": 1,
      "outputs": [
        {
          "output_type": "stream",
          "name": "stdout",
          "text": [
            "Cloning into 'My-Data2'...\n",
            "remote: Enumerating objects: 9, done.\u001b[K\n",
            "remote: Counting objects: 100% (9/9), done.\u001b[K\n",
            "remote: Compressing objects: 100% (7/7), done.\u001b[K\n",
            "remote: Total 9 (delta 0), reused 0 (delta 0), pack-reused 0\u001b[K\n",
            "Unpacking objects: 100% (9/9), done.\n"
          ]
        }
      ]
    },
    {
      "cell_type": "code",
      "metadata": {
        "colab": {
          "base_uri": "https://localhost:8080/",
          "height": 204
        },
        "id": "YC5DJADT8AEG",
        "outputId": "7b6963cb-3578-45ea-8e99-d64cfcd983fc"
      },
      "source": [
        "# Read CSV file using pandas\n",
        "import pandas as pd\n",
        "sucidesindia=pd.read_csv('/content/My-Data2/SuicidesIndia.csv')\n",
        "sucidesindia.head()"
      ],
      "execution_count": 5,
      "outputs": [
        {
          "output_type": "execute_result",
          "data": {
            "text/html": [
              "<div>\n",
              "<style scoped>\n",
              "    .dataframe tbody tr th:only-of-type {\n",
              "        vertical-align: middle;\n",
              "    }\n",
              "\n",
              "    .dataframe tbody tr th {\n",
              "        vertical-align: top;\n",
              "    }\n",
              "\n",
              "    .dataframe thead th {\n",
              "        text-align: right;\n",
              "    }\n",
              "</style>\n",
              "<table border=\"1\" class=\"dataframe\">\n",
              "  <thead>\n",
              "    <tr style=\"text-align: right;\">\n",
              "      <th></th>\n",
              "      <th>State</th>\n",
              "      <th>Year</th>\n",
              "      <th>Type_code</th>\n",
              "      <th>Type</th>\n",
              "      <th>Gender</th>\n",
              "      <th>Age_group</th>\n",
              "      <th>Total</th>\n",
              "    </tr>\n",
              "  </thead>\n",
              "  <tbody>\n",
              "    <tr>\n",
              "      <th>0</th>\n",
              "      <td>A &amp; N Islands</td>\n",
              "      <td>2001</td>\n",
              "      <td>Causes</td>\n",
              "      <td>Illness (Aids/STD)</td>\n",
              "      <td>Female</td>\n",
              "      <td>0-14</td>\n",
              "      <td>0</td>\n",
              "    </tr>\n",
              "    <tr>\n",
              "      <th>1</th>\n",
              "      <td>A &amp; N Islands</td>\n",
              "      <td>2001</td>\n",
              "      <td>Causes</td>\n",
              "      <td>Bankruptcy or Sudden change in Economic</td>\n",
              "      <td>Female</td>\n",
              "      <td>0-14</td>\n",
              "      <td>0</td>\n",
              "    </tr>\n",
              "    <tr>\n",
              "      <th>2</th>\n",
              "      <td>A &amp; N Islands</td>\n",
              "      <td>2001</td>\n",
              "      <td>Causes</td>\n",
              "      <td>Cancellation/Non-Settlement of Marriage</td>\n",
              "      <td>Female</td>\n",
              "      <td>0-14</td>\n",
              "      <td>0</td>\n",
              "    </tr>\n",
              "    <tr>\n",
              "      <th>3</th>\n",
              "      <td>A &amp; N Islands</td>\n",
              "      <td>2001</td>\n",
              "      <td>Causes</td>\n",
              "      <td>Physical Abuse (Rape/Incest Etc.)</td>\n",
              "      <td>Female</td>\n",
              "      <td>0-14</td>\n",
              "      <td>0</td>\n",
              "    </tr>\n",
              "    <tr>\n",
              "      <th>4</th>\n",
              "      <td>A &amp; N Islands</td>\n",
              "      <td>2001</td>\n",
              "      <td>Causes</td>\n",
              "      <td>Dowry Dispute</td>\n",
              "      <td>Female</td>\n",
              "      <td>0-14</td>\n",
              "      <td>0</td>\n",
              "    </tr>\n",
              "  </tbody>\n",
              "</table>\n",
              "</div>"
            ],
            "text/plain": [
              "           State  Year Type_code  ...  Gender Age_group Total\n",
              "0  A & N Islands  2001    Causes  ...  Female      0-14     0\n",
              "1  A & N Islands  2001    Causes  ...  Female      0-14     0\n",
              "2  A & N Islands  2001    Causes  ...  Female      0-14     0\n",
              "3  A & N Islands  2001    Causes  ...  Female      0-14     0\n",
              "4  A & N Islands  2001    Causes  ...  Female      0-14     0\n",
              "\n",
              "[5 rows x 7 columns]"
            ]
          },
          "metadata": {},
          "execution_count": 5
        }
      ]
    },
    {
      "cell_type": "code",
      "metadata": {
        "colab": {
          "base_uri": "https://localhost:8080/",
          "height": 266
        },
        "id": "VVdKmmfUajsk",
        "outputId": "6540c5ab-babd-452b-cd60-47f1973700f2"
      },
      "source": [
        "#Grouping by Age\n",
        "Age = sucidesindia.groupby(['Age_group']).count()\n",
        "Age.sort_values(['Age_group'],ascending=True)\n"
      ],
      "execution_count": 29,
      "outputs": [
        {
          "output_type": "execute_result",
          "data": {
            "text/html": [
              "<div>\n",
              "<style scoped>\n",
              "    .dataframe tbody tr th:only-of-type {\n",
              "        vertical-align: middle;\n",
              "    }\n",
              "\n",
              "    .dataframe tbody tr th {\n",
              "        vertical-align: top;\n",
              "    }\n",
              "\n",
              "    .dataframe thead th {\n",
              "        text-align: right;\n",
              "    }\n",
              "</style>\n",
              "<table border=\"1\" class=\"dataframe\">\n",
              "  <thead>\n",
              "    <tr style=\"text-align: right;\">\n",
              "      <th></th>\n",
              "      <th>State</th>\n",
              "      <th>Year</th>\n",
              "      <th>Type_code</th>\n",
              "      <th>Type</th>\n",
              "      <th>Gender</th>\n",
              "      <th>Total</th>\n",
              "    </tr>\n",
              "    <tr>\n",
              "      <th>Age_group</th>\n",
              "      <th></th>\n",
              "      <th></th>\n",
              "      <th></th>\n",
              "      <th></th>\n",
              "      <th></th>\n",
              "      <th></th>\n",
              "    </tr>\n",
              "  </thead>\n",
              "  <tbody>\n",
              "    <tr>\n",
              "      <th>0-100+</th>\n",
              "      <td>11856</td>\n",
              "      <td>11856</td>\n",
              "      <td>11856</td>\n",
              "      <td>11856</td>\n",
              "      <td>11856</td>\n",
              "      <td>11856</td>\n",
              "    </tr>\n",
              "    <tr>\n",
              "      <th>0-14</th>\n",
              "      <td>45027</td>\n",
              "      <td>45027</td>\n",
              "      <td>45027</td>\n",
              "      <td>45027</td>\n",
              "      <td>45027</td>\n",
              "      <td>45027</td>\n",
              "    </tr>\n",
              "    <tr>\n",
              "      <th>15-29</th>\n",
              "      <td>45223</td>\n",
              "      <td>45223</td>\n",
              "      <td>45223</td>\n",
              "      <td>45223</td>\n",
              "      <td>45223</td>\n",
              "      <td>45223</td>\n",
              "    </tr>\n",
              "    <tr>\n",
              "      <th>30-44</th>\n",
              "      <td>45193</td>\n",
              "      <td>45193</td>\n",
              "      <td>45193</td>\n",
              "      <td>45193</td>\n",
              "      <td>45193</td>\n",
              "      <td>45193</td>\n",
              "    </tr>\n",
              "    <tr>\n",
              "      <th>45-59</th>\n",
              "      <td>45146</td>\n",
              "      <td>45146</td>\n",
              "      <td>45146</td>\n",
              "      <td>45146</td>\n",
              "      <td>45146</td>\n",
              "      <td>45146</td>\n",
              "    </tr>\n",
              "    <tr>\n",
              "      <th>60+</th>\n",
              "      <td>45074</td>\n",
              "      <td>45074</td>\n",
              "      <td>45074</td>\n",
              "      <td>45074</td>\n",
              "      <td>45074</td>\n",
              "      <td>45074</td>\n",
              "    </tr>\n",
              "  </tbody>\n",
              "</table>\n",
              "</div>"
            ],
            "text/plain": [
              "           State   Year  Type_code   Type  Gender  Total\n",
              "Age_group                                               \n",
              "0-100+     11856  11856      11856  11856   11856  11856\n",
              "0-14       45027  45027      45027  45027   45027  45027\n",
              "15-29      45223  45223      45223  45223   45223  45223\n",
              "30-44      45193  45193      45193  45193   45193  45193\n",
              "45-59      45146  45146      45146  45146   45146  45146\n",
              "60+        45074  45074      45074  45074   45074  45074"
            ]
          },
          "metadata": {},
          "execution_count": 29
        }
      ]
    },
    {
      "cell_type": "code",
      "metadata": {
        "colab": {
          "base_uri": "https://localhost:8080/",
          "height": 450
        },
        "id": "FZj9ji3aePRe",
        "outputId": "48eb71a3-a318-45ef-9bfb-44d5d2c504c5"
      },
      "source": [
        "age = sucidesindia.groupby(['Age_group','Year'])\n",
        "age.sum()"
      ],
      "execution_count": 47,
      "outputs": [
        {
          "output_type": "execute_result",
          "data": {
            "text/html": [
              "<div>\n",
              "<style scoped>\n",
              "    .dataframe tbody tr th:only-of-type {\n",
              "        vertical-align: middle;\n",
              "    }\n",
              "\n",
              "    .dataframe tbody tr th {\n",
              "        vertical-align: top;\n",
              "    }\n",
              "\n",
              "    .dataframe thead th {\n",
              "        text-align: right;\n",
              "    }\n",
              "</style>\n",
              "<table border=\"1\" class=\"dataframe\">\n",
              "  <thead>\n",
              "    <tr style=\"text-align: right;\">\n",
              "      <th></th>\n",
              "      <th></th>\n",
              "      <th>Total</th>\n",
              "    </tr>\n",
              "    <tr>\n",
              "      <th>Age_group</th>\n",
              "      <th>Year</th>\n",
              "      <th></th>\n",
              "    </tr>\n",
              "  </thead>\n",
              "  <tbody>\n",
              "    <tr>\n",
              "      <th rowspan=\"5\" valign=\"top\">0-100+</th>\n",
              "      <th>2001</th>\n",
              "      <td>651036</td>\n",
              "    </tr>\n",
              "    <tr>\n",
              "      <th>2002</th>\n",
              "      <td>662502</td>\n",
              "    </tr>\n",
              "    <tr>\n",
              "      <th>2003</th>\n",
              "      <td>665106</td>\n",
              "    </tr>\n",
              "    <tr>\n",
              "      <th>2004</th>\n",
              "      <td>682182</td>\n",
              "    </tr>\n",
              "    <tr>\n",
              "      <th>2005</th>\n",
              "      <td>683484</td>\n",
              "    </tr>\n",
              "    <tr>\n",
              "      <th>...</th>\n",
              "      <th>...</th>\n",
              "      <td>...</td>\n",
              "    </tr>\n",
              "    <tr>\n",
              "      <th rowspan=\"5\" valign=\"top\">60+</th>\n",
              "      <th>2008</th>\n",
              "      <td>27632</td>\n",
              "    </tr>\n",
              "    <tr>\n",
              "      <th>2009</th>\n",
              "      <td>30271</td>\n",
              "    </tr>\n",
              "    <tr>\n",
              "      <th>2010</th>\n",
              "      <td>33319</td>\n",
              "    </tr>\n",
              "    <tr>\n",
              "      <th>2011</th>\n",
              "      <td>32340</td>\n",
              "    </tr>\n",
              "    <tr>\n",
              "      <th>2012</th>\n",
              "      <td>32136</td>\n",
              "    </tr>\n",
              "  </tbody>\n",
              "</table>\n",
              "<p>72 rows × 1 columns</p>\n",
              "</div>"
            ],
            "text/plain": [
              "                 Total\n",
              "Age_group Year        \n",
              "0-100+    2001  651036\n",
              "          2002  662502\n",
              "          2003  665106\n",
              "          2004  682182\n",
              "          2005  683484\n",
              "...                ...\n",
              "60+       2008   27632\n",
              "          2009   30271\n",
              "          2010   33319\n",
              "          2011   32340\n",
              "          2012   32136\n",
              "\n",
              "[72 rows x 1 columns]"
            ]
          },
          "metadata": {},
          "execution_count": 47
        }
      ]
    },
    {
      "cell_type": "code",
      "metadata": {
        "id": "yjHw9yAPIM4w",
        "colab": {
          "base_uri": "https://localhost:8080/",
          "height": 266
        },
        "outputId": "99688495-1c56-44ec-b3fc-d7059435c525"
      },
      "source": [
        "age = sucidesindia.groupby(['Age_group'])\n",
        "Age_extract=age.sum()\n",
        "Age_extract"
      ],
      "execution_count": 49,
      "outputs": [
        {
          "output_type": "execute_result",
          "data": {
            "text/html": [
              "<div>\n",
              "<style scoped>\n",
              "    .dataframe tbody tr th:only-of-type {\n",
              "        vertical-align: middle;\n",
              "    }\n",
              "\n",
              "    .dataframe tbody tr th {\n",
              "        vertical-align: top;\n",
              "    }\n",
              "\n",
              "    .dataframe thead th {\n",
              "        text-align: right;\n",
              "    }\n",
              "</style>\n",
              "<table border=\"1\" class=\"dataframe\">\n",
              "  <thead>\n",
              "    <tr style=\"text-align: right;\">\n",
              "      <th></th>\n",
              "      <th>Year</th>\n",
              "      <th>Total</th>\n",
              "    </tr>\n",
              "    <tr>\n",
              "      <th>Age_group</th>\n",
              "      <th></th>\n",
              "      <th></th>\n",
              "    </tr>\n",
              "  </thead>\n",
              "  <tbody>\n",
              "    <tr>\n",
              "      <th>0-100+</th>\n",
              "      <td>23789064</td>\n",
              "      <td>8735586</td>\n",
              "    </tr>\n",
              "    <tr>\n",
              "      <th>0-14</th>\n",
              "      <td>90346704</td>\n",
              "      <td>98410</td>\n",
              "    </tr>\n",
              "    <tr>\n",
              "      <th>15-29</th>\n",
              "      <td>90740018</td>\n",
              "      <td>1534037</td>\n",
              "    </tr>\n",
              "    <tr>\n",
              "      <th>30-44</th>\n",
              "      <td>90679742</td>\n",
              "      <td>1471599</td>\n",
              "    </tr>\n",
              "    <tr>\n",
              "      <th>45-59</th>\n",
              "      <td>90585456</td>\n",
              "      <td>885177</td>\n",
              "    </tr>\n",
              "    <tr>\n",
              "      <th>60+</th>\n",
              "      <td>90440996</td>\n",
              "      <td>346925</td>\n",
              "    </tr>\n",
              "  </tbody>\n",
              "</table>\n",
              "</div>"
            ],
            "text/plain": [
              "               Year    Total\n",
              "Age_group                   \n",
              "0-100+     23789064  8735586\n",
              "0-14       90346704    98410\n",
              "15-29      90740018  1534037\n",
              "30-44      90679742  1471599\n",
              "45-59      90585456   885177\n",
              "60+        90440996   346925"
            ]
          },
          "metadata": {},
          "execution_count": 49
        }
      ]
    },
    {
      "cell_type": "code",
      "metadata": {
        "id": "bUI9a_mDjUiG"
      },
      "source": [
        "age = sucidesindia.groupby(['Age_group'])\n",
        "Age_extract=age.sum()\n",
        "Age_extract.plot(kind='bar');"
      ],
      "execution_count": null,
      "outputs": []
    }
  ]
}