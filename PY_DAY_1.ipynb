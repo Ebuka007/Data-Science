{
  "nbformat": 4,
  "nbformat_minor": 0,
  "metadata": {
    "colab": {
      "name": "PY DAY 1.ipynb",
      "provenance": [],
      "authorship_tag": "ABX9TyNMMf1wfJz5DaG/AMSKpKvz",
      "include_colab_link": true
    },
    "kernelspec": {
      "name": "python3",
      "display_name": "Python 3"
    },
    "language_info": {
      "name": "python"
    }
  },
  "cells": [
    {
      "cell_type": "markdown",
      "metadata": {
        "id": "view-in-github",
        "colab_type": "text"
      },
      "source": [
        "<a href=\"https://colab.research.google.com/github/Ebuka007/Data-Science/blob/main/PY_DAY_1.ipynb\" target=\"_parent\"><img src=\"https://colab.research.google.com/assets/colab-badge.svg\" alt=\"Open In Colab\"/></a>"
      ]
    },
    {
      "cell_type": "code",
      "metadata": {
        "colab": {
          "base_uri": "https://localhost:8080/"
        },
        "id": "4N0frOhAdqB-",
        "outputId": "5137c6ab-55ff-48c0-b75a-77c7ed588577"
      },
      "source": [
        " print(\"Hello world\")"
      ],
      "execution_count": 2,
      "outputs": [
        {
          "output_type": "stream",
          "name": "stdout",
          "text": [
            "Hello world\n"
          ]
        }
      ]
    },
    {
      "cell_type": "markdown",
      "metadata": {
        "id": "mzhwZ2jnfQiE"
      },
      "source": [
        "# Welcome to Data Science Boot Camp\n",
        "## Hello Guys\n",
        "### Enjoy the class\n",
        "####learn python\n",
        "##### Class starts today\n",
        "###### Let us begin\n",
        "\n",
        "\n",
        "\n",
        "\n",
        "| Class     | Description |\n",
        "| ----------- | ----------- |\n",
        "| Teachers      | Title       |\n",
        "| Students  | Text        |"
      ]
    },
    {
      "cell_type": "code",
      "metadata": {
        "colab": {
          "base_uri": "https://localhost:8080/"
        },
        "id": "itqihE-BfBs7",
        "outputId": "a70bf1c7-01ed-4ad0-ec84-0114f63803f4"
      },
      "source": [
        "print(\"Welcome to data science bootcamp\")"
      ],
      "execution_count": 3,
      "outputs": [
        {
          "output_type": "stream",
          "name": "stdout",
          "text": [
            "Welcome to data science bootcamp\n"
          ]
        }
      ]
    }
  ]
}