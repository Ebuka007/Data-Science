{
  "nbformat": 4,
  "nbformat_minor": 0,
  "metadata": {
    "colab": {
      "name": "PY DAY 1.ipynb",
      "provenance": [],
      "authorship_tag": "ABX9TyMkmKRv0Yr4UbLw9fgQ6O3z",
      "include_colab_link": true
    },
    "kernelspec": {
      "name": "python3",
      "display_name": "Python 3"
    },
    "language_info": {
      "name": "python"
    }
  },
  "cells": [
    {
      "cell_type": "markdown",
      "metadata": {
        "id": "view-in-github",
        "colab_type": "text"
      },
      "source": [
        "<a href=\"https://colab.research.google.com/github/Ebuka007/Data-Science/blob/main/PY_DAY_1.ipynb\" target=\"_parent\"><img src=\"https://colab.research.google.com/assets/colab-badge.svg\" alt=\"Open In Colab\"/></a>"
      ]
    },
    {
      "cell_type": "code",
      "metadata": {
        "colab": {
          "base_uri": "https://localhost:8080/"
        },
        "id": "4N0frOhAdqB-",
        "outputId": "5137c6ab-55ff-48c0-b75a-77c7ed588577"
      },
      "source": [
        " print(\"Hello world\")"
      ],
      "execution_count": null,
      "outputs": [
        {
          "output_type": "stream",
          "name": "stdout",
          "text": [
            "Hello world\n"
          ]
        }
      ]
    },
    {
      "cell_type": "markdown",
      "metadata": {
        "id": "mzhwZ2jnfQiE"
      },
      "source": [
        "# Welcome to Data Science Boot Camp\n",
        "## Hello Guys\n",
        "### Enjoy the class\n",
        "####learn python\n",
        "##### Class starts today\n",
        "###### Let us begin\n",
        "\n",
        "\n",
        "\n",
        "\n",
        "| Class     | Description |\n",
        "| ----------- | ----------- |\n",
        "| Teachers      | Title       |\n",
        "| Students  | Text        |"
      ]
    },
    {
      "cell_type": "code",
      "metadata": {
        "colab": {
          "base_uri": "https://localhost:8080/"
        },
        "id": "itqihE-BfBs7",
        "outputId": "a70bf1c7-01ed-4ad0-ec84-0114f63803f4"
      },
      "source": [
        "print(\"Welcome to data science bootcamp\")"
      ],
      "execution_count": null,
      "outputs": [
        {
          "output_type": "stream",
          "name": "stdout",
          "text": [
            "Welcome to data science bootcamp\n"
          ]
        }
      ]
    },
    {
      "cell_type": "markdown",
      "metadata": {
        "id": "B63k3wEwn11N"
      },
      "source": [
        "CLASS TASK\n",
        "##4 simulations (Add, sub, Mul, Div)\n",
        "\n",
        "| Syntax      | Description |\n",
        "| ----------- | ----------- |\n",
        "|Addition     | Title       |\n",
        "| Subtraction  | Text        |\n",
        "| Multiplication      | Title       |\n",
        "| Division  | Text        |"
      ]
    },
    {
      "cell_type": "code",
      "metadata": {
        "colab": {
          "base_uri": "https://localhost:8080/"
        },
        "id": "GH_9pKeVm_b3",
        "outputId": "c716ccec-13c7-421f-8b32-24dec7a9681f"
      },
      "source": [
        "a= 10000\n",
        "b= 50000\n",
        "c=a+b\n",
        "print(c)"
      ],
      "execution_count": null,
      "outputs": [
        {
          "output_type": "stream",
          "name": "stdout",
          "text": [
            "60000\n"
          ]
        }
      ]
    },
    {
      "cell_type": "code",
      "metadata": {
        "colab": {
          "base_uri": "https://localhost:8080/"
        },
        "id": "LNLug7DDnfvd",
        "outputId": "249f945d-70cd-4a78-aff2-c183b087aabc"
      },
      "source": [
        "a= 100000\n",
        "b= 50000\n",
        "c=a-b\n",
        "print(c)"
      ],
      "execution_count": null,
      "outputs": [
        {
          "output_type": "stream",
          "name": "stdout",
          "text": [
            "50000\n"
          ]
        }
      ]
    },
    {
      "cell_type": "code",
      "metadata": {
        "colab": {
          "base_uri": "https://localhost:8080/"
        },
        "id": "482qISHMntu8",
        "outputId": "a36da8dc-bdfd-41c5-e992-551ec90b89c2"
      },
      "source": [
        "a= 2000000\n",
        "b= 50000\n",
        "c=a/b\n",
        "print(c)"
      ],
      "execution_count": null,
      "outputs": [
        {
          "output_type": "stream",
          "name": "stdout",
          "text": [
            "40.0\n"
          ]
        }
      ]
    },
    {
      "cell_type": "code",
      "metadata": {
        "colab": {
          "base_uri": "https://localhost:8080/"
        },
        "id": "_Zr7gmJNnoPd",
        "outputId": "049f9907-93ad-4856-81f2-2736baa2c61d"
      },
      "source": [
        "a= 10000\n",
        "b= 50000\n",
        "c=a*b\n",
        "print(c)"
      ],
      "execution_count": null,
      "outputs": [
        {
          "output_type": "stream",
          "name": "stdout",
          "text": [
            "500000000\n"
          ]
        }
      ]
    },
    {
      "cell_type": "code",
      "metadata": {
        "id": "3Ph0q8aps03K",
        "outputId": "eb34e918-082b-4ae5-f3e5-f9f37e0ee91f",
        "colab": {
          "base_uri": "https://localhost:8080/"
        }
      },
      "source": [
        "num1 = input('Enter first number: ')\n",
        "num2 = input('Enter second number: ')\n",
        "\n",
        "# Add two numbers\n",
        "sum = float(num1) + float(num2)\n",
        "\n",
        "# Display the sum\n",
        "print('The sum of {0} and {1} is {2}'.format(num1, num2, sum))"
      ],
      "execution_count": 6,
      "outputs": [
        {
          "output_type": "stream",
          "name": "stdout",
          "text": [
            "Enter first number: 1000\n",
            "Enter second number: 2000\n",
            "The sum of 1000 and 2000 is 3000.0\n"
          ]
        }
      ]
    },
    {
      "cell_type": "code",
      "metadata": {
        "colab": {
          "base_uri": "https://localhost:8080/"
        },
        "id": "-ackyTVktITy",
        "outputId": "f391ac92-3f46-4784-f6bd-bb38af7a658a"
      },
      "source": [
        "# Python Program to calculate the square root\n",
        "# Note: change this value for a different result\n",
        "num = 9 \n",
        "\n",
        "# To take the input from the user\n",
        "#num = float(input('Enter a number: '))\n",
        "\n",
        "num_sqrt = num ** 0.5\n",
        "print('The square root of %0.3f is %0.3f'%(num ,num_sqrt))"
      ],
      "execution_count": 7,
      "outputs": [
        {
          "output_type": "stream",
          "name": "stdout",
          "text": [
            "The square root of 9.000 is 3.000\n"
          ]
        }
      ]
    },
    {
      "cell_type": "code",
      "metadata": {
        "id": "pj1xyL0PuAe6"
      },
      "source": [
        "\n",
        "\n"
      ],
      "execution_count": null,
      "outputs": []
    },
    {
      "cell_type": "code",
      "metadata": {
        "colab": {
          "base_uri": "https://localhost:8080/"
        },
        "id": "0jypo4RJuPrC",
        "outputId": "74f4d4a6-0031-499c-d07d-aad298fcdec6"
      },
      "source": [
        "# Python Program to calculate the area of a triangle\n",
        "\n",
        "b=18\n",
        "h=6\n",
        "\n",
        "Y=0.5*b\n",
        "Z=Y*h\n",
        "\n",
        "\n",
        "print(\"The area of the Triangle with {b} base and {h} height is\", Z)"
      ],
      "execution_count": 24,
      "outputs": [
        {
          "output_type": "stream",
          "name": "stdout",
          "text": [
            "The area of the Triangle with {b} base and {h} height is 54.0\n"
          ]
        }
      ]
    },
    {
      "cell_type": "code",
      "metadata": {
        "id": "q7PRHMT6yFWy",
        "outputId": "b0a14d18-3609-4400-eaa9-a581e14bf608",
        "colab": {
          "base_uri": "https://localhost:8080/"
        }
      },
      "source": [
        "# Python Program to calculate the area of a triangle\n",
        "\n",
        "b=input('Enter first number: ')\n",
        "h=input('Enter second number: ')\n",
        "\n",
        "#half of base \n",
        "\n",
        "y= 0.5*float(b)*float(h)\n",
        "\n",
        "\n",
        "\n",
        "\n",
        "print('The area of a triangle with {0} base and {1} height is {2}'.format (b,h,y))"
      ],
      "execution_count": 36,
      "outputs": [
        {
          "output_type": "stream",
          "name": "stdout",
          "text": [
            "Enter first number: 18\n",
            "Enter second number: 6\n",
            "The area of a triangle with 18 base and 6 height is 54.0\n"
          ]
        }
      ]
    },
    {
      "cell_type": "code",
      "metadata": {
        "id": "Y7BwhVP_2Ddu",
        "outputId": "e7d3ddea-ea33-492d-e7a5-6dbee13d7664",
        "colab": {
          "base_uri": "https://localhost:8080/"
        }
      },
      "source": [
        "# Python Program to calculate the area of a circle\n",
        "\n",
        "b=input('Enter first number: ')\n",
        "h=input('Enter second number: ')\n",
        "\n",
        "#half of base \n",
        "\n",
        "y= float(b)*float(h)**2\n",
        "\n",
        "\n",
        "\n",
        "\n",
        "print('The area of a circle with {0} base and {1} height is {2}'.format (b,h,y))"
      ],
      "execution_count": 37,
      "outputs": [
        {
          "output_type": "stream",
          "name": "stdout",
          "text": [
            "Enter first number: 3.14\n",
            "Enter second number: 30\n",
            "The area of a circle with 3.14 base and 30 height is 2826.0\n"
          ]
        }
      ]
    },
    {
      "cell_type": "code",
      "metadata": {
        "id": "e4pKuDfi2t-w",
        "outputId": "8e6b1e54-0661-46aa-8ebe-5554e2bd098b",
        "colab": {
          "base_uri": "https://localhost:8080/"
        }
      },
      "source": [
        "# Python Program to calculate the circumference of a circle\n",
        "\n",
        "b=input('Enter first number: ')\n",
        "h=input('Enter second number: ')\n",
        "\n",
        "\n",
        "\n",
        "y= 2*float(b)*float(h)\n",
        "\n",
        "\n",
        "\n",
        "\n",
        "print('The circumference of a circle with {0} pie and {1} radius is {2}'.format (b,h,y))"
      ],
      "execution_count": 38,
      "outputs": [
        {
          "output_type": "stream",
          "name": "stdout",
          "text": [
            "Enter first number: 3.14\n",
            "Enter second number: 30\n",
            "The circumference of a circle with 3.14 pie and 30 radius is 188.4\n"
          ]
        }
      ]
    },
    {
      "cell_type": "code",
      "metadata": {
        "id": "D2v3JerC3EfD",
        "outputId": "a9705d9e-3d96-4dfa-f21d-0ddae0b40af8",
        "colab": {
          "base_uri": "https://localhost:8080/"
        }
      },
      "source": [
        "# Python Program to calculate the simple interest of a loan\n",
        "\n",
        "b=input('Enter first number: ')\n",
        "h=input('Enter second number: ')\n",
        "k=input('Enter second number: ')\n",
        "\n",
        "\n",
        "\n",
        "y= float(b)*float(h)*float(k)\n",
        "\n",
        "\n",
        "\n",
        "\n",
        "print('The simple interest of a loan with {0} principal and {1}year time and {2}interest rate is {3}'.format (b,h,k,y))"
      ],
      "execution_count": 43,
      "outputs": [
        {
          "output_type": "stream",
          "name": "stdout",
          "text": [
            "Enter first number: 10000\n",
            "Enter second number: 2\n",
            "Enter second number: 0.15\n",
            "The simple interest of a loan with 10000 principal and 2year time and 0.15interest rate is 3000.0\n"
          ]
        }
      ]
    },
    {
      "cell_type": "code",
      "metadata": {
        "id": "cW56V3P25asx",
        "outputId": "fd91a751-51ea-4415-d155-b91488e0e1e1",
        "colab": {
          "base_uri": "https://localhost:8080/"
        }
      },
      "source": [
        "# Python Program to calculate the volume of a cylinder\n",
        "\n",
        "r=input('Enter the radius of Clyinder: ')\n",
        "h=input('Enter the height of Clyinder: ')\n",
        "\n",
        "y= 3.14*(float(r)**2)*float(h)\n",
        "y = round(y, 2)\n",
        "\n",
        "\n",
        "print('The volume of Cylinder with {0} raduis and {1} height is {2}'.format (r,h,y))"
      ],
      "execution_count": 55,
      "outputs": [
        {
          "output_type": "stream",
          "name": "stdout",
          "text": [
            "Enter the radius of Clyinder: 65\n",
            "Enter the height of Clyinder: 75\n",
            "The volume of Cylinder with 65 raduis and 75 height is 994987.5\n"
          ]
        }
      ]
    },
    {
      "cell_type": "code",
      "metadata": {
        "id": "RrxNExlb_qim",
        "outputId": "de0136ba-f9f8-4e45-ec6d-62d0d199777d",
        "colab": {
          "base_uri": "https://localhost:8080/",
          "height": 419
        }
      },
      "source": [
        "import pandas as pd\n",
        "\n",
        "\n",
        "data=pd.read_csv('/content/SuicidesIndia.csv')\n",
        "data"
      ],
      "execution_count": 60,
      "outputs": [
        {
          "output_type": "execute_result",
          "data": {
            "text/html": [
              "<div>\n",
              "<style scoped>\n",
              "    .dataframe tbody tr th:only-of-type {\n",
              "        vertical-align: middle;\n",
              "    }\n",
              "\n",
              "    .dataframe tbody tr th {\n",
              "        vertical-align: top;\n",
              "    }\n",
              "\n",
              "    .dataframe thead th {\n",
              "        text-align: right;\n",
              "    }\n",
              "</style>\n",
              "<table border=\"1\" class=\"dataframe\">\n",
              "  <thead>\n",
              "    <tr style=\"text-align: right;\">\n",
              "      <th></th>\n",
              "      <th>State</th>\n",
              "      <th>Year</th>\n",
              "      <th>Type_code</th>\n",
              "      <th>Type</th>\n",
              "      <th>Gender</th>\n",
              "      <th>Age_group</th>\n",
              "      <th>Total</th>\n",
              "    </tr>\n",
              "  </thead>\n",
              "  <tbody>\n",
              "    <tr>\n",
              "      <th>0</th>\n",
              "      <td>A &amp; N Islands</td>\n",
              "      <td>2001</td>\n",
              "      <td>Causes</td>\n",
              "      <td>Illness (Aids/STD)</td>\n",
              "      <td>Female</td>\n",
              "      <td>0-14</td>\n",
              "      <td>0</td>\n",
              "    </tr>\n",
              "    <tr>\n",
              "      <th>1</th>\n",
              "      <td>A &amp; N Islands</td>\n",
              "      <td>2001</td>\n",
              "      <td>Causes</td>\n",
              "      <td>Bankruptcy or Sudden change in Economic</td>\n",
              "      <td>Female</td>\n",
              "      <td>0-14</td>\n",
              "      <td>0</td>\n",
              "    </tr>\n",
              "    <tr>\n",
              "      <th>2</th>\n",
              "      <td>A &amp; N Islands</td>\n",
              "      <td>2001</td>\n",
              "      <td>Causes</td>\n",
              "      <td>Cancellation/Non-Settlement of Marriage</td>\n",
              "      <td>Female</td>\n",
              "      <td>0-14</td>\n",
              "      <td>0</td>\n",
              "    </tr>\n",
              "    <tr>\n",
              "      <th>3</th>\n",
              "      <td>A &amp; N Islands</td>\n",
              "      <td>2001</td>\n",
              "      <td>Causes</td>\n",
              "      <td>Physical Abuse (Rape/Incest Etc.)</td>\n",
              "      <td>Female</td>\n",
              "      <td>0-14</td>\n",
              "      <td>0</td>\n",
              "    </tr>\n",
              "    <tr>\n",
              "      <th>4</th>\n",
              "      <td>A &amp; N Islands</td>\n",
              "      <td>2001</td>\n",
              "      <td>Causes</td>\n",
              "      <td>Dowry Dispute</td>\n",
              "      <td>Female</td>\n",
              "      <td>0-14</td>\n",
              "      <td>0</td>\n",
              "    </tr>\n",
              "    <tr>\n",
              "      <th>...</th>\n",
              "      <td>...</td>\n",
              "      <td>...</td>\n",
              "      <td>...</td>\n",
              "      <td>...</td>\n",
              "      <td>...</td>\n",
              "      <td>...</td>\n",
              "      <td>...</td>\n",
              "    </tr>\n",
              "    <tr>\n",
              "      <th>237514</th>\n",
              "      <td>West Bengal</td>\n",
              "      <td>2012</td>\n",
              "      <td>Social_Status</td>\n",
              "      <td>Seperated</td>\n",
              "      <td>Male</td>\n",
              "      <td>0-100+</td>\n",
              "      <td>149</td>\n",
              "    </tr>\n",
              "    <tr>\n",
              "      <th>237515</th>\n",
              "      <td>West Bengal</td>\n",
              "      <td>2012</td>\n",
              "      <td>Social_Status</td>\n",
              "      <td>Widowed/Widower</td>\n",
              "      <td>Male</td>\n",
              "      <td>0-100+</td>\n",
              "      <td>233</td>\n",
              "    </tr>\n",
              "    <tr>\n",
              "      <th>237516</th>\n",
              "      <td>West Bengal</td>\n",
              "      <td>2012</td>\n",
              "      <td>Social_Status</td>\n",
              "      <td>Married</td>\n",
              "      <td>Male</td>\n",
              "      <td>0-100+</td>\n",
              "      <td>5451</td>\n",
              "    </tr>\n",
              "    <tr>\n",
              "      <th>237517</th>\n",
              "      <td>West Bengal</td>\n",
              "      <td>2012</td>\n",
              "      <td>Social_Status</td>\n",
              "      <td>Divorcee</td>\n",
              "      <td>Male</td>\n",
              "      <td>0-100+</td>\n",
              "      <td>189</td>\n",
              "    </tr>\n",
              "    <tr>\n",
              "      <th>237518</th>\n",
              "      <td>West Bengal</td>\n",
              "      <td>2012</td>\n",
              "      <td>Social_Status</td>\n",
              "      <td>Never Married</td>\n",
              "      <td>Male</td>\n",
              "      <td>0-100+</td>\n",
              "      <td>2658</td>\n",
              "    </tr>\n",
              "  </tbody>\n",
              "</table>\n",
              "<p>237519 rows × 7 columns</p>\n",
              "</div>"
            ],
            "text/plain": [
              "                State  Year      Type_code  ...  Gender Age_group Total\n",
              "0       A & N Islands  2001         Causes  ...  Female      0-14     0\n",
              "1       A & N Islands  2001         Causes  ...  Female      0-14     0\n",
              "2       A & N Islands  2001         Causes  ...  Female      0-14     0\n",
              "3       A & N Islands  2001         Causes  ...  Female      0-14     0\n",
              "4       A & N Islands  2001         Causes  ...  Female      0-14     0\n",
              "...               ...   ...            ...  ...     ...       ...   ...\n",
              "237514    West Bengal  2012  Social_Status  ...    Male    0-100+   149\n",
              "237515    West Bengal  2012  Social_Status  ...    Male    0-100+   233\n",
              "237516    West Bengal  2012  Social_Status  ...    Male    0-100+  5451\n",
              "237517    West Bengal  2012  Social_Status  ...    Male    0-100+   189\n",
              "237518    West Bengal  2012  Social_Status  ...    Male    0-100+  2658\n",
              "\n",
              "[237519 rows x 7 columns]"
            ]
          },
          "metadata": {},
          "execution_count": 60
        }
      ]
    }
  ]
}