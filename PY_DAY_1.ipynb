{
  "nbformat": 4,
  "nbformat_minor": 0,
  "metadata": {
    "colab": {
      "name": "PY DAY 1.ipynb",
      "provenance": [],
      "authorship_tag": "ABX9TyM0HihQ21JWMRpPScoZxIm7",
      "include_colab_link": true
    },
    "kernelspec": {
      "name": "python3",
      "display_name": "Python 3"
    },
    "language_info": {
      "name": "python"
    }
  },
  "cells": [
    {
      "cell_type": "markdown",
      "metadata": {
        "id": "view-in-github",
        "colab_type": "text"
      },
      "source": [
        "<a href=\"https://colab.research.google.com/github/Ebuka007/Data-Science/blob/main/PY_DAY_1.ipynb\" target=\"_parent\"><img src=\"https://colab.research.google.com/assets/colab-badge.svg\" alt=\"Open In Colab\"/></a>"
      ]
    },
    {
      "cell_type": "code",
      "metadata": {
        "colab": {
          "base_uri": "https://localhost:8080/"
        },
        "id": "4N0frOhAdqB-",
        "outputId": "5137c6ab-55ff-48c0-b75a-77c7ed588577"
      },
      "source": [
        " print(\"Hello world\")"
      ],
      "execution_count": null,
      "outputs": [
        {
          "output_type": "stream",
          "name": "stdout",
          "text": [
            "Hello world\n"
          ]
        }
      ]
    },
    {
      "cell_type": "markdown",
      "metadata": {
        "id": "mzhwZ2jnfQiE"
      },
      "source": [
        "# Welcome to Data Science Boot Camp\n",
        "## Hello Guys\n",
        "### Enjoy the class\n",
        "####learn python\n",
        "##### Class starts today\n",
        "###### Let us begin\n",
        "\n",
        "\n",
        "\n",
        "\n",
        "| Class     | Description |\n",
        "| ----------- | ----------- |\n",
        "| Teachers      | Title       |\n",
        "| Students  | Text        |"
      ]
    },
    {
      "cell_type": "code",
      "metadata": {
        "colab": {
          "base_uri": "https://localhost:8080/"
        },
        "id": "itqihE-BfBs7",
        "outputId": "a70bf1c7-01ed-4ad0-ec84-0114f63803f4"
      },
      "source": [
        "print(\"Welcome to data science bootcamp\")"
      ],
      "execution_count": null,
      "outputs": [
        {
          "output_type": "stream",
          "name": "stdout",
          "text": [
            "Welcome to data science bootcamp\n"
          ]
        }
      ]
    },
    {
      "cell_type": "markdown",
      "metadata": {
        "id": "B63k3wEwn11N"
      },
      "source": [
        "CLASS TASK\n",
        "##4 simulations (Add, sub, Mul, Div)"
      ]
    },
    {
      "cell_type": "code",
      "metadata": {
        "colab": {
          "base_uri": "https://localhost:8080/"
        },
        "id": "GH_9pKeVm_b3",
        "outputId": "c716ccec-13c7-421f-8b32-24dec7a9681f"
      },
      "source": [
        "a= 10000\n",
        "b= 50000\n",
        "c=a+b\n",
        "print(c)"
      ],
      "execution_count": 2,
      "outputs": [
        {
          "output_type": "stream",
          "name": "stdout",
          "text": [
            "60000\n"
          ]
        }
      ]
    },
    {
      "cell_type": "code",
      "metadata": {
        "colab": {
          "base_uri": "https://localhost:8080/"
        },
        "id": "LNLug7DDnfvd",
        "outputId": "249f945d-70cd-4a78-aff2-c183b087aabc"
      },
      "source": [
        "a= 100000\n",
        "b= 50000\n",
        "c=a-b\n",
        "print(c)"
      ],
      "execution_count": 3,
      "outputs": [
        {
          "output_type": "stream",
          "name": "stdout",
          "text": [
            "50000\n"
          ]
        }
      ]
    },
    {
      "cell_type": "code",
      "metadata": {
        "colab": {
          "base_uri": "https://localhost:8080/"
        },
        "id": "_Zr7gmJNnoPd",
        "outputId": "049f9907-93ad-4856-81f2-2736baa2c61d"
      },
      "source": [
        "a= 10000\n",
        "b= 50000\n",
        "c=a*b\n",
        "print(c)"
      ],
      "execution_count": 4,
      "outputs": [
        {
          "output_type": "stream",
          "name": "stdout",
          "text": [
            "500000000\n"
          ]
        }
      ]
    },
    {
      "cell_type": "code",
      "metadata": {
        "colab": {
          "base_uri": "https://localhost:8080/"
        },
        "id": "482qISHMntu8",
        "outputId": "a36da8dc-bdfd-41c5-e992-551ec90b89c2"
      },
      "source": [
        "a= 2000000\n",
        "b= 50000\n",
        "c=a/b\n",
        "print(c)"
      ],
      "execution_count": 5,
      "outputs": [
        {
          "output_type": "stream",
          "name": "stdout",
          "text": [
            "40.0\n"
          ]
        }
      ]
    }
  ]
}